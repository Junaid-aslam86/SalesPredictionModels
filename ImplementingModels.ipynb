{
  "nbformat": 4,
  "nbformat_minor": 0,
  "metadata": {
    "colab": {
      "provenance": []
    },
    "kernelspec": {
      "name": "python3",
      "display_name": "Python 3"
    },
    "language_info": {
      "name": "python"
    }
  },
  "cells": [
    {
      "cell_type": "markdown",
      "metadata": {
        "id": "lX7jJJ6CpBFx"
      },
      "source": [
        "## **Implementing Supervised Machine Learning algorithms.**"
      ]
    },
    {
      "cell_type": "markdown",
      "metadata": {
        "id": "jHSGn1LD9YbB"
      },
      "source": [
        "## **1.  Linear Regression (OLS)**"
      ]
    },
    {
      "cell_type": "code",
      "execution_count": null,
      "metadata": {
        "id": "XMpz1ImZVxwK"
      },
      "outputs": [],
      "source": [
        "# Transforming data\n",
        "scaler = MinMaxScaler()\n",
        "X_train = scaler.fit_transform(X_train)\n",
        "X_test = scaler.transform(X_test)"
      ]
    },
    {
      "cell_type": "code",
      "execution_count": null,
      "metadata": {
        "colab": {
          "base_uri": "https://localhost:8080/",
          "height": 74
        },
        "id": "skLOJkZkUb9H",
        "outputId": "c8a3e13a-5b90-4b49-f0ee-e51234f1be1b"
      },
      "outputs": [
        {
          "output_type": "execute_result",
          "data": {
            "text/plain": [
              "LinearRegression()"
            ],
            "text/html": [
              "<style>#sk-container-id-1 {color: black;background-color: white;}#sk-container-id-1 pre{padding: 0;}#sk-container-id-1 div.sk-toggleable {background-color: white;}#sk-container-id-1 label.sk-toggleable__label {cursor: pointer;display: block;width: 100%;margin-bottom: 0;padding: 0.3em;box-sizing: border-box;text-align: center;}#sk-container-id-1 label.sk-toggleable__label-arrow:before {content: \"▸\";float: left;margin-right: 0.25em;color: #696969;}#sk-container-id-1 label.sk-toggleable__label-arrow:hover:before {color: black;}#sk-container-id-1 div.sk-estimator:hover label.sk-toggleable__label-arrow:before {color: black;}#sk-container-id-1 div.sk-toggleable__content {max-height: 0;max-width: 0;overflow: hidden;text-align: left;background-color: #f0f8ff;}#sk-container-id-1 div.sk-toggleable__content pre {margin: 0.2em;color: black;border-radius: 0.25em;background-color: #f0f8ff;}#sk-container-id-1 input.sk-toggleable__control:checked~div.sk-toggleable__content {max-height: 200px;max-width: 100%;overflow: auto;}#sk-container-id-1 input.sk-toggleable__control:checked~label.sk-toggleable__label-arrow:before {content: \"▾\";}#sk-container-id-1 div.sk-estimator input.sk-toggleable__control:checked~label.sk-toggleable__label {background-color: #d4ebff;}#sk-container-id-1 div.sk-label input.sk-toggleable__control:checked~label.sk-toggleable__label {background-color: #d4ebff;}#sk-container-id-1 input.sk-hidden--visually {border: 0;clip: rect(1px 1px 1px 1px);clip: rect(1px, 1px, 1px, 1px);height: 1px;margin: -1px;overflow: hidden;padding: 0;position: absolute;width: 1px;}#sk-container-id-1 div.sk-estimator {font-family: monospace;background-color: #f0f8ff;border: 1px dotted black;border-radius: 0.25em;box-sizing: border-box;margin-bottom: 0.5em;}#sk-container-id-1 div.sk-estimator:hover {background-color: #d4ebff;}#sk-container-id-1 div.sk-parallel-item::after {content: \"\";width: 100%;border-bottom: 1px solid gray;flex-grow: 1;}#sk-container-id-1 div.sk-label:hover label.sk-toggleable__label {background-color: #d4ebff;}#sk-container-id-1 div.sk-serial::before {content: \"\";position: absolute;border-left: 1px solid gray;box-sizing: border-box;top: 0;bottom: 0;left: 50%;z-index: 0;}#sk-container-id-1 div.sk-serial {display: flex;flex-direction: column;align-items: center;background-color: white;padding-right: 0.2em;padding-left: 0.2em;position: relative;}#sk-container-id-1 div.sk-item {position: relative;z-index: 1;}#sk-container-id-1 div.sk-parallel {display: flex;align-items: stretch;justify-content: center;background-color: white;position: relative;}#sk-container-id-1 div.sk-item::before, #sk-container-id-1 div.sk-parallel-item::before {content: \"\";position: absolute;border-left: 1px solid gray;box-sizing: border-box;top: 0;bottom: 0;left: 50%;z-index: -1;}#sk-container-id-1 div.sk-parallel-item {display: flex;flex-direction: column;z-index: 1;position: relative;background-color: white;}#sk-container-id-1 div.sk-parallel-item:first-child::after {align-self: flex-end;width: 50%;}#sk-container-id-1 div.sk-parallel-item:last-child::after {align-self: flex-start;width: 50%;}#sk-container-id-1 div.sk-parallel-item:only-child::after {width: 0;}#sk-container-id-1 div.sk-dashed-wrapped {border: 1px dashed gray;margin: 0 0.4em 0.5em 0.4em;box-sizing: border-box;padding-bottom: 0.4em;background-color: white;}#sk-container-id-1 div.sk-label label {font-family: monospace;font-weight: bold;display: inline-block;line-height: 1.2em;}#sk-container-id-1 div.sk-label-container {text-align: center;}#sk-container-id-1 div.sk-container {/* jupyter's `normalize.less` sets `[hidden] { display: none; }` but bootstrap.min.css set `[hidden] { display: none !important; }` so we also need the `!important` here to be able to override the default hidden behavior on the sphinx rendered scikit-learn.org. See: https://github.com/scikit-learn/scikit-learn/issues/21755 */display: inline-block !important;position: relative;}#sk-container-id-1 div.sk-text-repr-fallback {display: none;}</style><div id=\"sk-container-id-1\" class=\"sk-top-container\"><div class=\"sk-text-repr-fallback\"><pre>LinearRegression()</pre><b>In a Jupyter environment, please rerun this cell to show the HTML representation or trust the notebook. <br />On GitHub, the HTML representation is unable to render, please try loading this page with nbviewer.org.</b></div><div class=\"sk-container\" hidden><div class=\"sk-item\"><div class=\"sk-estimator sk-toggleable\"><input class=\"sk-toggleable__control sk-hidden--visually\" id=\"sk-estimator-id-1\" type=\"checkbox\" checked><label for=\"sk-estimator-id-1\" class=\"sk-toggleable__label sk-toggleable__label-arrow\">LinearRegression</label><div class=\"sk-toggleable__content\"><pre>LinearRegression()</pre></div></div></div></div></div>"
            ]
          },
          "metadata": {},
          "execution_count": 77
        }
      ],
      "source": [
        "# Fitting Multiple Linear Regression to the Training set\n",
        "regressor = LinearRegression()\n",
        "regressor.fit(X_train, y_train)"
      ]
    },
    {
      "cell_type": "code",
      "execution_count": null,
      "metadata": {
        "colab": {
          "base_uri": "https://localhost:8080/"
        },
        "id": "yPotObXnUb47",
        "outputId": "84ed1416-a101-4e47-b1f1-a3187433959b"
      },
      "outputs": [
        {
          "output_type": "execute_result",
          "data": {
            "text/plain": [
              "8523933535040602.0"
            ]
          },
          "metadata": {},
          "execution_count": 78
        }
      ],
      "source": [
        "regressor.intercept_"
      ]
    },
    {
      "cell_type": "code",
      "execution_count": null,
      "metadata": {
        "colab": {
          "base_uri": "https://localhost:8080/"
        },
        "id": "0TQYE6NIUbz5",
        "outputId": "f1f78bf8-8580-49af-ed51-3a9081196319"
      },
      "outputs": [
        {
          "output_type": "execute_result",
          "data": {
            "text/plain": [
              "array([-1.32009600e+02,  3.06769154e+04,  1.08397388e+03,  1.90101409e+01,\n",
              "        2.37333880e-01,  3.71830956e+02,  1.53998085e+01, -1.89987369e+02,\n",
              "        1.81742101e+03,  3.07457393e+02,  7.81892779e+14,  7.81892779e+14,\n",
              "        7.81892779e+14,  7.81892779e+14, -9.30582631e+15, -9.30582631e+15,\n",
              "       -9.30582631e+15])"
            ]
          },
          "metadata": {},
          "execution_count": 79
        }
      ],
      "source": [
        "regressor.coef_"
      ]
    },
    {
      "cell_type": "code",
      "execution_count": null,
      "metadata": {
        "id": "gk08TNMFWNfc"
      },
      "outputs": [],
      "source": [
        "y_pred_train = regressor.predict(X_train)"
      ]
    },
    {
      "cell_type": "code",
      "execution_count": null,
      "metadata": {
        "id": "dOQHYZlhUbyF"
      },
      "outputs": [],
      "source": [
        "# Predicting the Test set results\n",
        "y_pred = regressor.predict(X_test)"
      ]
    },
    {
      "cell_type": "code",
      "execution_count": null,
      "metadata": {
        "colab": {
          "base_uri": "https://localhost:8080/"
        },
        "id": "kcdpckpBVKgs",
        "outputId": "0ac48531-98eb-4652-bcaf-a4161c2d94dd"
      },
      "outputs": [
        {
          "output_type": "execute_result",
          "data": {
            "text/plain": [
              "1331783.7318460518"
            ]
          },
          "metadata": {},
          "execution_count": 82
        }
      ],
      "source": [
        "mean_squared_error(y_test, y_pred)"
      ]
    },
    {
      "cell_type": "code",
      "execution_count": null,
      "metadata": {
        "colab": {
          "base_uri": "https://localhost:8080/"
        },
        "id": "hZaxVlsIVKc5",
        "outputId": "44e278c8-caa8-44e9-a16c-65c787d151b1"
      },
      "outputs": [
        {
          "output_type": "execute_result",
          "data": {
            "text/plain": [
              "1154.0293461806125"
            ]
          },
          "metadata": {},
          "execution_count": 83
        }
      ],
      "source": [
        "# Test performance\n",
        "math.sqrt(mean_squared_error(y_test, y_pred))"
      ]
    },
    {
      "cell_type": "code",
      "execution_count": null,
      "metadata": {
        "colab": {
          "base_uri": "https://localhost:8080/"
        },
        "id": "3L6tAK_8WDbe",
        "outputId": "1c061adf-eaf8-4cad-9ee0-c978550446e5"
      },
      "outputs": [
        {
          "output_type": "execute_result",
          "data": {
            "text/plain": [
              "0.7815479752619792"
            ]
          },
          "metadata": {},
          "execution_count": 84
        }
      ],
      "source": [
        "train_score_1=regressor.score(X_train,y_train)\n",
        "train_score_1"
      ]
    },
    {
      "cell_type": "code",
      "execution_count": null,
      "metadata": {
        "colab": {
          "base_uri": "https://localhost:8080/"
        },
        "id": "HmizKpu0VKXW",
        "outputId": "d6e75cf1-e86c-4774-82f8-35afd7549cde"
      },
      "outputs": [
        {
          "output_type": "execute_result",
          "data": {
            "text/plain": [
              "0.7809706828283869"
            ]
          },
          "metadata": {},
          "execution_count": 85
        }
      ],
      "source": [
        "test_score_1=regressor.score(X_test,y_test)\n",
        "test_score_1"
      ]
    },
    {
      "cell_type": "code",
      "execution_count": null,
      "metadata": {
        "id": "4wfSIY8eydKH"
      },
      "outputs": [],
      "source": [
        "#storing 100 observations for analysis\n",
        "simple_lr_pred = y_pred[:100]\n",
        "simple_lr_real = y_test[:100]\n",
        "dataset_lr = pd.DataFrame({'Real':simple_lr_real,'PredictedLR':simple_lr_pred}) #storing these values into dataframe"
      ]
    },
    {
      "cell_type": "code",
      "execution_count": null,
      "metadata": {
        "id": "2-L-0495yc4Z"
      },
      "outputs": [],
      "source": [
        "#storing absolute diffrences between actual sales price and predicted\n",
        "dataset_lr['diff']=(dataset_lr['Real']-dataset_lr['PredictedLR']).abs()"
      ]
    },
    {
      "cell_type": "code",
      "execution_count": null,
      "metadata": {
        "colab": {
          "base_uri": "https://localhost:8080/",
          "height": 507
        },
        "id": "KewPys1OylB2",
        "outputId": "29d3765b-f0c5-4847-e9ad-3f6919a3cb7a"
      },
      "outputs": [
        {
          "output_type": "display_data",
          "data": {
            "text/plain": [
              "<Figure size 500x500 with 1 Axes>"
            ],
            "image/png": "[encoded data removed]"
          },
          "metadata": {}
        }
      ],
      "source": [
        "#visualising our predictions\n",
        "sns.lmplot(x='Real', y='PredictedLR', data=dataset_lr, line_kws={'color': 'black'});"
      ]
    },
    {
      "cell_type": "markdown",
      "source": [
        "Linear Regression Custom Code Without Libraries"
      ],
      "metadata": {
        "id": "cGOIGIxMl7J9"
      }
    },
    {
      "cell_type": "code",
      "source": [
        "# Custom MinMaxScaler\n",
        "def min_max_scaler(X):\n",
        "    X_scaled = (X - X.min(axis=0)) / (X.max(axis=0) - X.min(axis=0))\n",
        "    return X_scaled\n",
        "\n",
        "# Scaling the data\n",
        "X_train_scaled = min_max_scaler(X_train)\n",
        "X_test_scaled = min_max_scaler(X_test)\n",
        "\n",
        "\n",
        "# Adding a column of ones to the input data for the intercept term\n",
        "X_train_scaled = np.c_[np.ones(X_train_scaled.shape[0]), X_train_scaled]\n",
        "X_test_scaled = np.c_[np.ones(X_test_scaled.shape[0]), X_test_scaled]\n",
        "\n",
        "# Normal equation: (X^T * X)^(-1) * X^T * y\n",
        "theta = np.linalg.inv(X_train_scaled.T.dot(X_train_scaled)).dot(X_train_scaled.T).dot(y_train)\n",
        "\n",
        "# Extracting the intercept and coefficients\n",
        "intercept = theta[0]\n",
        "coefficients = theta[1:]\n",
        "\n",
        "# Predicting the training set results\n",
        "y_pred_train = X_train_scaled.dot(theta)\n",
        "\n",
        "# Predicting the test set results\n",
        "y_pred_test = X_test_scaled.dot(theta)\n",
        "\n",
        "# Custom RMSE function\n",
        "def rmse(y_true, y_pred):\n",
        "    return np.sqrt(np.mean((y_true - y_pred) ** 2))\n",
        "\n",
        "# Custom MAPE function\n",
        "def mape(y_true, y_pred):\n",
        "    return np.mean(np.abs((y_true - y_pred) / y_true)) * 100\n",
        "\n",
        "# Training and test RMSE\n",
        "train_rmse = rmse(y_train, y_pred_train)\n",
        "test_rmse = rmse(y_test, y_pred_test)\n",
        "\n",
        "# Training and test MAPE\n",
        "train_mape = mape(y_train, y_pred_train)\n",
        "test_mape = mape(y_test, y_pred_test)\n",
        "\n",
        "# Training and test R2 scores\n",
        "def r2_score(y_true, y_pred):\n",
        "    ss_total = np.sum((y_true - np.mean(y_true)) ** 2)\n",
        "    ss_residual = np.sum((y_true - y_pred) ** 2)\n",
        "    return 1 - (ss_residual / ss_total)\n",
        "\n",
        "train_r2 = r2_score(y_train, y_pred_train)\n",
        "test_r2 = r2_score(y_test, y_pred_test)\n",
        "\n",
        "print(\"Training RMSE:\", train_rmse, \"Testing RMSE:\", test_rmse)\n",
        "print(\"Training MAPE:\", train_mape, \"Testing MAPE:\", test_mape)\n",
        "print(\"Training R2:\", train_r2, \"Testing R2:\", test_r2)\n"
      ],
      "metadata": {
        "id": "Mam1fF7wmHjE"
      },
      "execution_count": null,
      "outputs": []
    },
    {
      "cell_type": "markdown",
      "metadata": {
        "id": "LONPxJUIFNzc"
      },
      "source": [
        "## **2. Decision Tree Regression**"
      ]
    },
    {
      "cell_type": "code",
      "execution_count": null,
      "metadata": {
        "colab": {
          "base_uri": "https://localhost:8080/"
        },
        "id": "qJH-A0M8FWoP",
        "outputId": "f26e9de0-70e3-4d9f-b1fc-c403f260e27b"
      },
      "outputs": [
        {
          "output_type": "stream",
          "name": "stdout",
          "text": [
            "Regresion Model Score : 1.0 , Test Score : 0.9104346308113156\n",
            "Training RMSE : 0.0 Testing RMSE : 737.9650401732156\n",
            "Training MAPE : 0.0 Testing MAPE : 7.865796827936034\n"
          ]
        }
      ],
      "source": [
        "train_score_3=treereg.score(X_train, y_train)\n",
        "test_score_3=treereg.score(X_test, y_test)\n",
        "\n",
        "print(\"Regresion Model Score\" , \":\" , train_score_3 , \",\" ,\n",
        "      \"Test Score\" ,\":\" , test_score_3)\n",
        "\n",
        "y_predicted = treereg.predict(X_train)\n",
        "y_test_predicted = treereg.predict(X_test)\n",
        "print(\"Training RMSE\", \":\", rmse(y_train, y_predicted),\n",
        "      \"Testing RMSE\", \":\", rmse(y_test, y_test_predicted))\n",
        "print(\"Training MAPE\", \":\", mape(y_train, y_predicted),\n",
        "      \"Testing MAPE\", \":\", mape(y_test, y_test_predicted))"
      ]
    },
    {
      "cell_type": "code",
      "execution_count": null,
      "metadata": {
        "id": "5n80jPxrFISD"
      },
      "outputs": [],
      "source": [
        "tree = DecisionTreeRegressor()\n",
        "treereg = tree.fit(X_train, y_train)"
      ]
    },
    {
      "cell_type": "markdown",
      "source": [
        "Decision Tree Custom Code without Libraries"
      ],
      "metadata": {
        "id": "yKzPmjaPliui"
      }
    },
    {
      "cell_type": "code",
      "source": [
        "from sklearn.metrics import mean_squared_error\n",
        "\n",
        "# Custom RMSE function\n",
        "def rmse(y_true, y_pred):\n",
        "    return np.sqrt(mean_squared_error(y_true, y_pred))\n",
        "\n",
        "# Custom MAPE function\n",
        "def mape(y_true, y_pred):\n",
        "    return np.mean(np.abs((y_true - y_pred) / y_true)) * 100\n",
        "\n",
        "# Training and test predictions\n",
        "y_pred_train = treereg.predict(X_train)\n",
        "y_pred_test = treereg.predict(X_test)\n",
        "\n",
        "# Training and test R2 scores\n",
        "train_r2 = 1 - (sum((y_train - y_pred_train) ** 2) / sum((y_train - np.mean(y_train)) ** 2))\n",
        "test_r2 = 1 - (sum((y_test - y_pred_test) ** 2) / sum((y_test - np.mean(y_test)) ** 2))\n",
        "\n",
        "print(\"Regression Model Score:\", train_r2, \",\", \"Test Score:\", test_r2)\n",
        "\n",
        "# Calculate RMSE and MAPE for training and testing datasets\n",
        "training_rmse = rmse(y_train, y_pred_train)\n",
        "testing_rmse = rmse(y_test, y_pred_test)\n",
        "training_mape = mape(y_train, y_pred_train)\n",
        "testing_mape = mape(y_test, y_pred_test)\n",
        "\n",
        "print(\"Training RMSE:\", training_rmse, \"Testing RMSE:\", testing_rmse)\n",
        "print(\"Training MAPE:\", training_mape, \"Testing MAPE:\", testing_mape)\n"
      ],
      "metadata": {
        "id": "KEhTw5NRlnnx"
      },
      "execution_count": null,
      "outputs": []
    },
    {
      "cell_type": "markdown",
      "metadata": {
        "id": "cOUgK1a7G8gx"
      },
      "source": [
        "## **3. K-Nearest Neighbors Regression**"
      ]
    },
    {
      "cell_type": "code",
      "execution_count": null,
      "metadata": {
        "id": "ckBlcgPMG958"
      },
      "outputs": [],
      "source": [
        "from sklearn.neighbors import KNeighborsRegressor\n",
        "knn = KNeighborsRegressor(n_neighbors = 30)\n",
        "knnreg = knn.fit(X_train, y_train)"
      ]
    },
    {
      "cell_type": "code",
      "execution_count": null,
      "metadata": {
        "id": "hnC4QKDjHEii"
      },
      "outputs": [],
      "source": [
        "print(\"Regresion Model Score\" , \":\" , knnreg.score(X_train, y_train) , \",\" ,\n",
        "      \"Out of Sample Test Score\" ,\":\" , knnreg.score(X_test, y_test))\n",
        "\n",
        "y_predicted = knnreg.predict(X_train)\n",
        "y_test_predicted = knnreg.predict(X_test)\n",
        "\n",
        "print(\"Training RMSE\", \":\", rmse(y_train, y_predicted),\n",
        "      \"Testing RMSE\", \":\", rmse(y_test, y_test_predicted))\n",
        "print(\"Training MAPE\", \":\", mape(y_train, y_predicted),\n",
        "      \"Testing MAPE\", \":\", mape(y_test, y_test_predicted))"
      ]
    },
    {
      "cell_type": "markdown",
      "source": [
        "K-Nearst Without Libraries"
      ],
      "metadata": {
        "id": "ajFjry2fnWe-"
      }
    },
    {
      "cell_type": "code",
      "source": [
        "# Custom MinMaxScaler\n",
        "def min_max_scaler(X):\n",
        "    return (X - X.min(axis=0)) / (X.max(axis=0) - X.min(axis=0))\n",
        "\n",
        "# Scaling the data\n",
        "X_train_scaled = min_max_scaler(X_train)\n",
        "X_test_scaled = min_max_scaler(X_test)\n"
      ],
      "metadata": {
        "id": "tsynRc0PncU0"
      },
      "execution_count": null,
      "outputs": []
    },
    {
      "cell_type": "code",
      "source": [
        "import numpy as np\n",
        "\n",
        "# Function to calculate Euclidean distance\n",
        "def euclidean_distance(a, b):\n",
        "    return np.sqrt(np.sum((a - b) ** 2, axis=1))\n",
        "\n",
        "# Custom KNN Regressor\n",
        "class CustomKNNRegressor:\n",
        "    def __init__(self, n_neighbors=5):\n",
        "        self.n_neighbors = n_neighbors\n",
        "\n",
        "    def fit(self, X, y):\n",
        "        self.X_train = X\n",
        "        self.y_train = y\n",
        "\n",
        "    def predict(self, X):\n",
        "        predictions = []\n",
        "        for x in X:\n",
        "            distances = euclidean_distance(self.X_train, x)\n",
        "            nearest_indices = distances.argsort()[:self.n_neighbors]\n",
        "            nearest_values = self.y_train[nearest_indices]\n",
        "            predictions.append(np.mean(nearest_values))\n",
        "        return np.array(predictions)\n",
        "\n",
        "# Initialize and fit the custom KNN Regressor\n",
        "knn_custom = CustomKNNRegressor(n_neighbors=30)\n",
        "knn_custom.fit(X_train_scaled, y_train)\n",
        "\n",
        "# Predicting the training and test set results\n",
        "y_pred_train_custom = knn_custom.predict(X_train_scaled)\n",
        "y_pred_test_custom = knn_custom.predict(X_test_scaled)\n"
      ],
      "metadata": {
        "id": "-X_Fnvovng1A"
      },
      "execution_count": null,
      "outputs": []
    },
    {
      "cell_type": "code",
      "source": [
        "# Custom RMSE function\n",
        "def rmse(y_true, y_pred):\n",
        "    return np.sqrt(np.mean((y_true - y_pred) ** 2))\n",
        "\n",
        "# Custom MAPE function\n",
        "def mape(y_true, y_pred):\n",
        "    return np.mean(np.abs((y_true - y_pred) / y_true)) * 100\n",
        "\n",
        "# Custom R2 Score function\n",
        "def r2_score(y_true, y_pred):\n",
        "    ss_total = np.sum((y_true - np.mean(y_true)) ** 2)\n",
        "    ss_residual = np.sum((y_true - y_pred) ** 2)\n",
        "    return 1 - (ss_residual / ss_total)\n",
        "\n",
        "# Training and test RMSE\n",
        "train_rmse_custom = rmse(y_train, y_pred_train_custom)\n",
        "test_rmse_custom = rmse(y_test, y_pred_test_custom)\n",
        "\n",
        "# Training and test MAPE\n",
        "train_mape_custom = mape(y_train, y_pred_train_custom)\n",
        "test_mape_custom = mape(y_test, y_pred_test_custom)\n",
        "\n",
        "# Training and test R2 scores\n",
        "train_r2_custom = r2_score(y_train, y_pred_train_custom)\n",
        "test_r2_custom = r2_score(y_test, y_pred_test_custom)\n",
        "\n",
        "print(\"Training RMSE:\", train_rmse_custom, \"Testing RMSE:\", test_rmse_custom)\n",
        "print(\"Training MAPE:\", train_mape_custom, \"Testing MAPE:\", test_mape_custom)\n",
        "print(\"Training R2:\", train_r2_custom, \"Testing R2:\", test_r2_custom)\n"
      ],
      "metadata": {
        "id": "4Ng3zkkHnjPE"
      },
      "execution_count": null,
      "outputs": []
    }
  ]
}